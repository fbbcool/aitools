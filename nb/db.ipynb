{
 "cells": [
  {
   "cell_type": "markdown",
   "metadata": {},
   "source": [
    "Connect"
   ]
  },
  {
   "cell_type": "code",
   "execution_count": null,
   "metadata": {},
   "outputs": [],
   "source": [
    "from aidb.dbmanager import DBManager\n",
    "dbm = DBManager(config_file=\"/Volumes/data/Project/AI/REPOS/aitools/src/aidb/dbmanager.yaml\")"
   ]
  },
  {
   "cell_type": "code",
   "execution_count": null,
   "metadata": {},
   "outputs": [],
   "source": [
    "#from pathlib import Path\n",
    "#container = \"/Volumes/data/pool/ass_gen4\"\n",
    "#dbm.add_container(container)\n",
    "#dbm.export_db()\n",
    "#dbm.import_db(\"prod_ai_export.json\", \"test_ai\")"
   ]
  },
  {
   "cell_type": "markdown",
   "metadata": {},
   "source": [
    "Stuff"
   ]
  },
  {
   "cell_type": "code",
   "execution_count": null,
   "metadata": {},
   "outputs": [],
   "source": [
    "from aidb.image import Image\n",
    "img = Image(dbm, \"68628f30ffefd6432b1dd6dc\")"
   ]
  },
  {
   "cell_type": "code",
   "execution_count": null,
   "metadata": {},
   "outputs": [],
   "source": [
    "#img.save_png_image(\"/Volumes/data/Downloads\")\n",
    "img.tags"
   ]
  },
  {
   "cell_type": "code",
   "execution_count": null,
   "metadata": {},
   "outputs": [],
   "source": [
    "#from aidb.query import Query\n",
    "#\n",
    "#tags = [\"sepp\"] # 0.0\n",
    "#\n",
    "#q = Query(dbm)\n",
    "#all = q.query_images()\n",
    "#thresh = 0.6\n",
    "#res = {}\n",
    "#for img in all:\n",
    "#    img.init_tags()\n",
    "#    img.thumbnail\n",
    "#    score = img.match_tags(tags)\n",
    "#    if score > thresh:\n",
    "#        res |= {img.image_id: score}\n",
    "#res_sorted = sorted(res.items(), key=lambda item: item[1])\n",
    "#res_sorted.reverse()\n",
    "#len(res_sorted)\n",
    "    \n"
   ]
  },
  {
   "cell_type": "code",
   "execution_count": null,
   "metadata": {},
   "outputs": [],
   "source": [
    "\"\"\"Init new Imgs\"\"\"\n",
    "#from aidb.statistics import Statistics\n",
    "#sta = Statistics(dbm)\n",
    "#for img in dbm.images:\n",
    "#    img.init_tags()\n",
    "#    img.thumbnail\n",
    "#    sta.img_statistics_init(img, force=False)"
   ]
  },
  {
   "cell_type": "markdown",
   "metadata": {},
   "source": [
    "Statistics"
   ]
  },
  {
   "cell_type": "code",
   "execution_count": null,
   "metadata": {},
   "outputs": [],
   "source": [
    "from aidb.statistics import Statistics\n",
    "from aidb.image import Image\n",
    "sta = Statistics(dbm)"
   ]
  },
  {
   "cell_type": "code",
   "execution_count": null,
   "metadata": {},
   "outputs": [],
   "source": [
    "#for img in dbm.images:\n",
    "#    sta.img_statistics_init(img, force=True)"
   ]
  },
  {
   "cell_type": "code",
   "execution_count": null,
   "metadata": {},
   "outputs": [],
   "source": [
    "#img = sta.img_rand\n",
    "iid = \"68691703a61eb8fd4c3a0502\"\n",
    "img = Image(dbm,iid)\n",
    "img_pil = img.pil\n",
    "print((img.image_id, img.rating, img_pil.width, img_pil.height))\n",
    "img_pil"
   ]
  },
  {
   "cell_type": "code",
   "execution_count": null,
   "metadata": {},
   "outputs": [],
   "source": [
    "idx = 9\n",
    "nid = list(img.neighbors.keys())[idx]\n",
    "dist = list(img.neighbors.values())[idx]\n",
    "img_n0 = Image(dbm, nid)\n",
    "print((nid,dist,img_n0.rating, img_n0.pil.width, img_n0.pil.height))\n",
    "img_n0.pil"
   ]
  },
  {
   "cell_type": "code",
   "execution_count": null,
   "metadata": {},
   "outputs": [],
   "source": [
    "# !!!!!!!!!!!!!!!!!!\n",
    "#img.set_rating(-2)\n",
    "#img_n0.set_rating(-2)"
   ]
  },
  {
   "cell_type": "code",
   "execution_count": null,
   "metadata": {},
   "outputs": [],
   "source": [
    "#imgs = [img for img in dbm.images]\n",
    "#neighborhood = sta.imgs_calc_neighborhood(imgs)\n",
    "#sta.imgs_set_neighborhood(neighborhood, force=True)"
   ]
  },
  {
   "cell_type": "code",
   "execution_count": null,
   "metadata": {},
   "outputs": [],
   "source": [
    "from aidb.query import Query\n",
    "\n",
    "q = Query(dbm)\n",
    "\n",
    "for img in q.query_by_rating(5,5):\n",
    "    img.train_image"
   ]
  }
 ],
 "metadata": {
  "kernelspec": {
   "display_name": "venv",
   "language": "python",
   "name": "python3"
  },
  "language_info": {
   "codemirror_mode": {
    "name": "ipython",
    "version": 3
   },
   "file_extension": ".py",
   "mimetype": "text/x-python",
   "name": "python",
   "nbconvert_exporter": "python",
   "pygments_lexer": "ipython3",
   "version": "3.10.18"
  }
 },
 "nbformat": 4,
 "nbformat_minor": 2
}
