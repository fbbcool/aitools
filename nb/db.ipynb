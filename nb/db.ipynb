{
 "cells": [
  {
   "cell_type": "code",
   "execution_count": null,
   "metadata": {},
   "outputs": [],
   "source": [
    "from aidb.dbmanager import DBManager\n",
    "dbm = DBManager(config_file=\"/Volumes/data/Project/AI/REPOS/aitools/src/aidb/dbmanager.yaml\")"
   ]
  },
  {
   "cell_type": "code",
   "execution_count": null,
   "metadata": {},
   "outputs": [],
   "source": [
    "#from pathlib import Path\n",
    "#container = \"/Volumes/data/pool/03_artist\"\n",
    "#dbm.add_container(container)"
   ]
  },
  {
   "cell_type": "code",
   "execution_count": null,
   "metadata": {},
   "outputs": [],
   "source": [
    "from src.aidb.image import Image\n",
    "img = Image(dbm, \"68628f30ffefd6432b1dd943\")"
   ]
  },
  {
   "cell_type": "code",
   "execution_count": null,
   "metadata": {},
   "outputs": [],
   "source": [
    "#img.save_png_image(\"/Volumes/data/Downloads\")\n",
    "img.tags"
   ]
  },
  {
   "cell_type": "code",
   "execution_count": null,
   "metadata": {},
   "outputs": [],
   "source": [
    "from aidb.query import Query\n",
    "\n",
    "#tags = [\"between breasts\", \"miniboy\", \"mini person\"]\n",
    "#tags = [\"penis\"] # 0.6\n",
    "#tags = [\"grabbing\"] # 0.01\n",
    "tags = [\"hairy\"] # 0.0\n",
    "\n",
    "q = Query(dbm)\n",
    "all = q.query_images()\n",
    "thresh = 0.6\n",
    "res = {}\n",
    "for img in all:\n",
    "    img.init_tags()\n",
    "    img.thumbnail\n",
    "    score = img.match_tags(tags)\n",
    "    if score > thresh:\n",
    "        res |= {img.image_id: score}\n",
    "res_sorted = sorted(res.items(), key=lambda item: item[1])\n",
    "res_sorted.reverse()\n",
    "len(res_sorted)\n",
    "    \n"
   ]
  },
  {
   "cell_type": "code",
   "execution_count": null,
   "metadata": {},
   "outputs": [],
   "source": [
    "from src.aidb.image import Image\n",
    "pos = 6\n",
    "id = res_sorted[pos][0]\n",
    "print(f\"score={res_sorted[pos][1]}\")\n",
    "img = Image(dbm, id)\n",
    "img.pil\n"
   ]
  }
 ],
 "metadata": {
  "kernelspec": {
   "display_name": "venv",
   "language": "python",
   "name": "python3"
  },
  "language_info": {
   "codemirror_mode": {
    "name": "ipython",
    "version": 3
   },
   "file_extension": ".py",
   "mimetype": "text/x-python",
   "name": "python",
   "nbconvert_exporter": "python",
   "pygments_lexer": "ipython3",
   "version": "3.10.18"
  }
 },
 "nbformat": 4,
 "nbformat_minor": 2
}
