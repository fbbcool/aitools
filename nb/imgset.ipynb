{
 "cells": [
  {
   "cell_type": "code",
   "execution_count": 1,
   "metadata": {},
   "outputs": [
    {
     "name": "stdout",
     "output_type": "stream",
     "text": [
      "0.08665511265164645\n",
      "0.08665511265164645\n"
     ]
    }
   ],
   "source": [
    "from src.imgset import ImgPool, ImgPools, ImgSelectorMode\n",
    "\n",
    "TEST = False\n",
    "\n",
    "pools_dict = {\n",
    "    #\"sophie_mae\": \"/Volumes/other/200_bt/100_Sophie Mae/_pics\",\n",
    "    #\"alexis_faye\": \"/Volumes/other/200_bt/100_Alexsis Faye/_pics\",\n",
    "    #\"abbi\": \"/Volumes/other/200_bt/100_Abbi/_pics\",\n",
    "    #\"anya\": \"/Volumes/other/200_bt/100_Anya Zenkova Merilyn/_pics\",\n",
    "    #\"lara\": \"/Volumes/other/200_bt/100_Lara Jones/_pics\",\n",
    "    #\"tera\": \"/Volumes/other/100_fbb/100_vid_calves/www.legsemporium.com/100_Tera\",\n",
    "    #\"anastasia\": \"/Volumes/other/100_fbb/100_vid_calves/www.legsemporium.com/100_Anastasia/_pics\",\n",
    "    \"muscleangels\": \"/Volumes/other/100_fbb/www.muscleangels.com/_pics\",\n",
    "    #\"joanna_bliss\": \"/Volumes/other/200_bt/100_Joanna Bliss/_pics\",\n",
    "    #\"face_alexandra\": \"/Volumes/other-1/400_dom/100_AlexandraSnow/faces\",\n",
    "}\n",
    "if TEST:\n",
    "    pools_dict = {\n",
    "        \"test_lara\": \"testset/100_Lara Jones/_pics\",\n",
    "    }\n",
    "\n",
    "pools = ImgPools(pools_dict, mode=ImgSelectorMode.IngoreTags, crawl=True)"
   ]
  },
  {
   "cell_type": "code",
   "execution_count": null,
   "metadata": {},
   "outputs": [],
   "source": [
    "from src.tags import TagsProfile\n",
    "from src.imgset import ImgSelectorCategory\n",
    "profile = TagsProfile(\"busty\", trigger=\"xlara\")\n",
    "profile.append_header(\"cropped\")\n",
    "profile.append_footer([\"indoors\",\"watermark\"])\n",
    "\n",
    "pools.make_train_pool(\"test_lara\", [ImgSelectorCategory.Orig, ImgSelectorCategory.Face], profile)"
   ]
  },
  {
   "cell_type": "code",
   "execution_count": null,
   "metadata": {},
   "outputs": [],
   "source": [
    "\n",
    "from src.imgset import ImgSelector, ImgSelectorMode, ImgSelectorCategory\n",
    "#\n",
    "#url_crawl = \"/Volumes/other/200_bt/100_Joanna Bliss/_pics\"\n",
    "#img_selector = ImgSelector(url_crawl, ImgSelectorCategory.Orig, 100, ImgSelectorMode.UseTags)\n",
    "#\n",
    "#print(len(img_selector.result))\n",
    "#print(len(img_selector.result))\n",
    "#print(len(img_selector.result))"
   ]
  }
 ],
 "metadata": {
  "kernelspec": {
   "display_name": "venv",
   "language": "python",
   "name": "python3"
  },
  "language_info": {
   "codemirror_mode": {
    "name": "ipython",
    "version": 3
   },
   "file_extension": ".py",
   "mimetype": "text/x-python",
   "name": "python",
   "nbconvert_exporter": "python",
   "pygments_lexer": "ipython3",
   "version": "3.10.13"
  }
 },
 "nbformat": 4,
 "nbformat_minor": 2
}
