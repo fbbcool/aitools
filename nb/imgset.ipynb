{
 "cells": [
  {
   "cell_type": "code",
   "execution_count": 1,
   "metadata": {},
   "outputs": [
    {
     "name": "stdout",
     "output_type": "stream",
     "text": [
      "convert prob = 0.5555555555555556\n"
     ]
    }
   ],
   "source": [
    "from src.imgset import ImgSet, Defines\n",
    "#crawl_dir = \"/Volumes/other/200_bt/100_Lara Jones\"\n",
    "crawl_dir = \"/Volumes/other/100_fbb/100_vid_calves/www.legsemporium.com/100_Tera\"\n",
    "#crawl_dir = \"testset/100_Lara Jones\"\n",
    "#pool_name = \"test_lara\"\n",
    "#pool_name = \"lara\"\n",
    "pool_name = \"tera\"\n",
    "\n",
    "#iset = ImgSet(pool_name)\n",
    "#iset = ImgSet(pool_name, init_tags=True)\n",
    "iset = ImgSet(pool_name, dir=crawl_dir, count=500)\n",
    "\n",
    "#type_cropped = f\"{Defines.EXT_CROPPED}\"\n",
    "#type_proc = f\"{Defines.EXT_PROCINFO}\"\n",
    "#iset.tags_init([Tags.CROPPED], type_cropped)\n",
    "#iset.tags_init(Tags.PROCINFO, Defines.TYPE_TAGS_PROCINFO)\n",
    "#iset.tags_init([\"init\"], Defines.TYPE_TAGS_PROCINFO)\n",
    "#iset.tags_link(type_cropped)\n",
    "#iset.tags_link(type_proc)\n",
    "#iset.tags_link(Defines.TYPE_TAGS_WD14)\n",
    "\n",
    "#iset.tags_unlink(Defines.TYPE_TAGS_WD14)\n",
    "#iset.tags_copy(Defines.TYPE_TAGS_WD14, f\"{Defines.TYPE_TAGS}_sepp\")\n",
    "#iset.tags_remove(f\"{Defines.TYPE_TAGS}_sepp\")\n",
    "#iset.pool_clean()\n",
    "#iset.tags_link(type_cropped)\n",
    "#iset.tags_remove(type_cropped)\n",
    "#iset.tags_link_save(type_cropped)\n",
    "#iset.pool_clean()"
   ]
  },
  {
   "cell_type": "code",
   "execution_count": 2,
   "metadata": {},
   "outputs": [],
   "source": [
    "#iset.tags_link_save(type_cropped)\n",
    "#iset.tags_copy(type_cropped, f\"{type_cropped}_save\")"
   ]
  },
  {
   "cell_type": "code",
   "execution_count": 3,
   "metadata": {},
   "outputs": [],
   "source": [
    "from src.tags import TagsProfile\n",
    "#profile = TagsProfile(\"busty\", trigger=\"my_trigger\")\n",
    "#profile.append_header(\"cropped\")\n",
    "#profile.append_footer([\"indoors\",\"watermark\"])\n",
    "#iset.build([], Defines.EXT_WD14, profile, 10, perc=0.33)"
   ]
  },
  {
   "cell_type": "code",
   "execution_count": 4,
   "metadata": {},
   "outputs": [],
   "source": [
    "#import pandas as pd\n",
    "#pd.options.display.max_rows = 4000\n",
    "#iset.caps_hist"
   ]
  },
  {
   "cell_type": "code",
   "execution_count": 5,
   "metadata": {},
   "outputs": [],
   "source": [
    "### WARNING ###\n",
    "#iset.save_captions()"
   ]
  },
  {
   "cell_type": "code",
   "execution_count": 6,
   "metadata": {},
   "outputs": [],
   "source": [
    "#iset.create_dataset(pools=[])"
   ]
  },
  {
   "cell_type": "code",
   "execution_count": null,
   "metadata": {},
   "outputs": [],
   "source": []
  }
 ],
 "metadata": {
  "kernelspec": {
   "display_name": "venv",
   "language": "python",
   "name": "python3"
  },
  "language_info": {
   "codemirror_mode": {
    "name": "ipython",
    "version": 3
   },
   "file_extension": ".py",
   "mimetype": "text/x-python",
   "name": "python",
   "nbconvert_exporter": "python",
   "pygments_lexer": "ipython3",
   "version": "3.10.13"
  }
 },
 "nbformat": 4,
 "nbformat_minor": 2
}
