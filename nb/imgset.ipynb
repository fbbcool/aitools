{
 "cells": [
  {
   "cell_type": "code",
   "execution_count": null,
   "metadata": {},
   "outputs": [],
   "source": [
    "from src.imgset import ImgPool, ImgPools\n",
    "#crawl_dir = \"/Volumes/other/200_bt/100_Lara Jones\"\n",
    "#crawl_dir = \"/Volumes/other/100_fbb/100_vid_calves/www.legsemporium.com/100_Tera\"\n",
    "#crawl_dir = \"/Volumes/other/100_fbb/www.muscleangels.com/_pics\"\n",
    "#crawl_dir = \"/Volumes/other/200_bt/100_Anya Zenkova Merilyn\"\n",
    "#crawl_dir = \"testset/100_Lara Jones\"\n",
    "#pool_name = \"test_lara\"\n",
    "#pool_name = \"lara\"\n",
    "#pool_name = \"merilyn\"\n",
    "#pool_name = \"tera\"\n",
    "#pool_name = \"muscleangels\"\n",
    "\n",
    "ipools_dict = {\n",
    "    \"lara\": \"/Volumes/other/200_bt/100_Lara Jones/_pics\",\n",
    "    \"tera\": \"/Volumes/other/100_fbb/100_vid_calves/www.legsemporium.com/100_Tera\",\n",
    "    \"anastasia\": \"/Volumes/other/100_fbb/100_vid_calves/www.legsemporium.com/100_Anastasia/_pics\",\n",
    "    \"muscleangels\": \"/Volumes/other/100_fbb/www.muscleangels.com/_pics\",\n",
    "    \"anya\": \"/Volumes/other/200_bt/100_Anya Zenkova Merilyn/_pics\",\n",
    "    \"abbi\": \"/Volumes/other/200_bt/100_Abbi/_pics\",\n",
    "    \"alexis_faye\": \"/Volumes/other/200_bt/100_Alexsis Faye/_pics\",\n",
    "    \"joanna_bliss\": \"/Volumes/other/200_bt/100_Joanna Bliss/_pics\",\n",
    "}\n",
    "ipools = ImgPools(ipools_dict, crawl=True)\n",
    "\n",
    "#iset = ImgSet(pool_name, 300, dir=crawl_dir)\n",
    "#iset = ImgPool(pool_name, 100)\n",
    "\n",
    "\n",
    "#type_cropped = f\"{Defines.EXT_CROPPED}\"\n",
    "#type_proc = f\"{Defines.EXT_PROCINFO}\"\n",
    "#iset.tags_init([Tags.CROPPED], type_cropped)\n",
    "#iset.tags_init(Tags.PROCINFO, Defines.TYPE_TAGS_PROCINFO)\n",
    "#iset.tags_init([\"init\"], Defines.TYPE_TAGS_PROCINFO)\n",
    "#iset.tags_link(type_cropped)\n",
    "#iset.tags_link(type_proc)\n",
    "#iset.tags_link(Defines.TYPE_TAGS_WD14)\n",
    "\n",
    "#iset.tags_unlink(Defines.TYPE_TAGS_WD14)\n",
    "#iset.tags_copy(Defines.TYPE_TAGS_WD14, f\"{Defines.TYPE_TAGS}_sepp\")\n",
    "#iset.tags_remove(f\"{Defines.TYPE_TAGS}_sepp\")\n",
    "#iset.pool_clean()\n",
    "#iset.tags_link(type_cropped)\n",
    "#iset.tags_remove(type_cropped)\n",
    "#iset.tags_link_save(type_cropped)\n",
    "#iset.pool_clean()\n"
   ]
  },
  {
   "cell_type": "code",
   "execution_count": null,
   "metadata": {},
   "outputs": [],
   "source": [
    "#iset.pool_extract_faces\n"
   ]
  },
  {
   "cell_type": "code",
   "execution_count": null,
   "metadata": {},
   "outputs": [],
   "source": [
    "#iset.tags_link_save(type_cropped)\n",
    "#iset.tags_copy(type_cropped, f\"{type_cropped}_save\")"
   ]
  },
  {
   "cell_type": "code",
   "execution_count": null,
   "metadata": {},
   "outputs": [],
   "source": [
    "from src.tags import TagsProfile\n",
    "#profile = TagsProfile(\"busty\", trigger=\"xlara\")\n",
    "#profile.append_header(\"cropped\")\n",
    "#profile.append_footer([\"indoors\",\"watermark\"])\n",
    "#iset.build([], Defines.TYPE_CAP_WD14, profile, 10, perc=0.33, folders=[\"origs\", \"faces\"])"
   ]
  },
  {
   "cell_type": "code",
   "execution_count": null,
   "metadata": {},
   "outputs": [],
   "source": [
    "#import pandas as pd\n",
    "#pd.options.display.max_rows = 4000\n",
    "#iset.caps_hist"
   ]
  },
  {
   "cell_type": "code",
   "execution_count": null,
   "metadata": {},
   "outputs": [],
   "source": [
    "### WARNING ###\n",
    "#iset.save_captions()"
   ]
  },
  {
   "cell_type": "code",
   "execution_count": null,
   "metadata": {},
   "outputs": [],
   "source": [
    "import macos_tags\n",
    "dir = \"/Volumes/other/200_bt/100_Joanna Bliss/_pics/big-tit-school-girl-gets-twisted\"\n",
    "file=\"/Volumes/other/200_bt/100_Joanna Bliss/_pics/big-tit-school-girl-gets-twisted/6986011.jpg\"\n",
    "macos_tags.get_all(file)\n",
    "macos_tags.find(\"ai_face\", onlyin=dir)\n"
   ]
  },
  {
   "cell_type": "code",
   "execution_count": null,
   "metadata": {},
   "outputs": [],
   "source": [
    "\n",
    "from src.imgset import ImgSelector, ImgSelectorMode, ImgSelectorCategory\n",
    "\n",
    "url_crawl = \"/Volumes/other/200_bt/100_Joanna Bliss/_pics\"\n",
    "img_selector = ImgSelector(url_crawl, ImgSelectorCategory.Body, 100, ImgSelectorMode.UseTags)\n",
    "\n",
    "print(len(img_selector.result))\n",
    "print(len(img_selector.result))\n",
    "print(len(img_selector.result))"
   ]
  }
 ],
 "metadata": {
  "kernelspec": {
   "display_name": "venv",
   "language": "python",
   "name": "python3"
  },
  "language_info": {
   "codemirror_mode": {
    "name": "ipython",
    "version": 3
   },
   "file_extension": ".py",
   "mimetype": "text/x-python",
   "name": "python",
   "nbconvert_exporter": "python",
   "pygments_lexer": "ipython3",
   "version": "3.10.13"
  }
 },
 "nbformat": 4,
 "nbformat_minor": 2
}
