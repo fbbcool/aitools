{
 "cells": [
  {
   "cell_type": "code",
   "execution_count": null,
   "metadata": {},
   "outputs": [],
   "source": [
    "from src.imgset import ImgPool, ImgPools\n",
    "\n",
    "TEST = True\n",
    "\n",
    "ipools_dict = {\n",
    "    \"lara\": \"/Volumes/other/200_bt/100_Lara Jones/_pics\",\n",
    "    \"tera\": \"/Volumes/other/100_fbb/100_vid_calves/www.legsemporium.com/100_Tera\",\n",
    "    \"anastasia\": \"/Volumes/other/100_fbb/100_vid_calves/www.legsemporium.com/100_Anastasia/_pics\",\n",
    "    \"muscleangels\": \"/Volumes/other/100_fbb/www.muscleangels.com/_pics\",\n",
    "    \"anya\": \"/Volumes/other/200_bt/100_Anya Zenkova Merilyn/_pics\",\n",
    "    \"abbi\": \"/Volumes/other/200_bt/100_Abbi/_pics\",\n",
    "    \"alexis_faye\": \"/Volumes/other/200_bt/100_Alexsis Faye/_pics\",\n",
    "    \"joanna_bliss\": \"/Volumes/other/200_bt/100_Joanna Bliss/_pics\",\n",
    "}\n",
    "if TEST:\n",
    "    ipools_dict = {\n",
    "        \"test_lara\": \"testset/100_Lara Jones/_pics\",\n",
    "    }\n",
    "\n",
    "ipools = ImgPools(ipools_dict, crawl=True)"
   ]
  },
  {
   "cell_type": "code",
   "execution_count": null,
   "metadata": {},
   "outputs": [],
   "source": [
    "from src.tags import TagsProfile\n",
    "#profile = TagsProfile(\"busty\", trigger=\"xlara\")\n",
    "#profile.append_header(\"cropped\")\n",
    "#profile.append_footer([\"indoors\",\"watermark\"])\n",
    "#iset.build([], Defines.TYPE_CAP_WD14, profile, 10, perc=0.33, folders=[\"origs\", \"faces\"])"
   ]
  },
  {
   "cell_type": "code",
   "execution_count": null,
   "metadata": {},
   "outputs": [],
   "source": [
    "\n",
    "from src.imgset import ImgSelector, ImgSelectorMode, ImgSelectorCategory\n",
    "#\n",
    "#url_crawl = \"/Volumes/other/200_bt/100_Joanna Bliss/_pics\"\n",
    "#img_selector = ImgSelector(url_crawl, ImgSelectorCategory.Orig, 100, ImgSelectorMode.UseTags)\n",
    "#\n",
    "#print(len(img_selector.result))\n",
    "#print(len(img_selector.result))\n",
    "#print(len(img_selector.result))"
   ]
  }
 ],
 "metadata": {
  "kernelspec": {
   "display_name": "venv",
   "language": "python",
   "name": "python3"
  },
  "language_info": {
   "codemirror_mode": {
    "name": "ipython",
    "version": 3
   },
   "file_extension": ".py",
   "mimetype": "text/x-python",
   "name": "python",
   "nbconvert_exporter": "python",
   "pygments_lexer": "ipython3",
   "version": "3.10.13"
  }
 },
 "nbformat": 4,
 "nbformat_minor": 2
}
