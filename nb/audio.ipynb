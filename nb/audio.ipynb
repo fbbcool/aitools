{
 "cells": [
  {
   "cell_type": "code",
   "execution_count": null,
   "metadata": {},
   "outputs": [],
   "source": [
    "from src.audio import transcribe\n",
    "folder = \"/Volumes/dat/Downloads/402_dom/ivy ophelia copy\"\n",
    "transcribe(folder)"
   ]
  },
  {
   "cell_type": "code",
   "execution_count": null,
   "metadata": {},
   "outputs": [],
   "source": [
    "from src.audio.extract import _extract_audio_folder\n",
    "folder = \"/Volumes/dat/Downloads/402_dom/ivy ophelia copy\"\n",
    "_extract_audio_folder(folder)"
   ]
  },
  {
   "cell_type": "code",
   "execution_count": null,
   "metadata": {},
   "outputs": [],
   "source": [
    "from src.audio.transcribe import _transcribe_folder\n",
    "file = \"/Volumes/dat/Downloads/402_dom/ivy ophelia copy/ivy ophelia - Sniff My Ass JOI Part 3.mp3\"\n",
    "folder = \"/Volumes/dat/Downloads/402_dom/ivy ophelia copy\"\n",
    "res = _transcribe_folder(folder, subtitles=True)"
   ]
  },
  {
   "cell_type": "code",
   "execution_count": null,
   "metadata": {},
   "outputs": [],
   "source": [
    "from pathlib import Path\n",
    "from src.audio.transcribe import _subtitles\n",
    "\n",
    "ifile = Path(file)\n",
    "_subtitles(ifile, res)"
   ]
  },
  {
   "cell_type": "code",
   "execution_count": null,
   "metadata": {},
   "outputs": [],
   "source": [
    "from pathlib import Path\n",
    "ifile = Path(\"/Volumes/dat/Downloads/402_dom/ivy ophelia copy/ivy ophelia - Sniff My Ass JOI Part 3_[jerkplanet.org].mp3\")\n",
    "ofile = Path(str(ifile).replace(\".mp3\",\"\"))\n",
    "ifile.name\n"
   ]
  }
 ],
 "metadata": {
  "kernelspec": {
   "display_name": "venv",
   "language": "python",
   "name": "python3"
  },
  "language_info": {
   "codemirror_mode": {
    "name": "ipython",
    "version": 3
   },
   "file_extension": ".py",
   "mimetype": "text/x-python",
   "name": "python",
   "nbconvert_exporter": "python",
   "pygments_lexer": "ipython3",
   "version": "3.10.14"
  }
 },
 "nbformat": 4,
 "nbformat_minor": 2
}
