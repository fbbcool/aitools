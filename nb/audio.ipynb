{
 "cells": [
  {
   "cell_type": "code",
   "execution_count": null,
   "metadata": {},
   "outputs": [],
   "source": [
    "from src.audio.extract import convert_video_to_audio_ffmpeg\n",
    "ipath = \"/Volumes/dat/Downloads/402_dom/ivy ophelia copy\"\n",
    "convert_video_to_audio_ffmpeg(ipath)"
   ]
  }
 ],
 "metadata": {
  "kernelspec": {
   "display_name": "venv",
   "language": "python",
   "name": "python3"
  },
  "language_info": {
   "name": "python",
   "version": "3.10.14"
  }
 },
 "nbformat": 4,
 "nbformat_minor": 2
}
