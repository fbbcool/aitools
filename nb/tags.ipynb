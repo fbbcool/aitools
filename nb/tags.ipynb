{
 "cells": [
  {
   "cell_type": "code",
   "execution_count": null,
   "metadata": {},
   "outputs": [],
   "source": [
    "from src.tags import *\n",
    "profile = TagsProfile(\"sepp\")"
   ]
  },
  {
   "cell_type": "code",
   "execution_count": null,
   "metadata": {},
   "outputs": [],
   "source": [
    "profile = TagsProfile(\"busty\", trigger=\"tifa lockhart\")"
   ]
  },
  {
   "cell_type": "code",
   "execution_count": null,
   "metadata": {},
   "outputs": [],
   "source": [
    "profile.append_header(\"cropped\")\n",
    "profile.append_footer([\"indoors\",\"watermarks\"])"
   ]
  },
  {
   "cell_type": "code",
   "execution_count": null,
   "metadata": {},
   "outputs": [],
   "source": [
    "caps_wd14 = [\"1girl\", \"solo\", \"breasts\", \"nipples\", \"ass\", \"nude\", \"pussy\", \"indoors\", \"large breasts\", \"nail polish\", \"completely nude\", \"uncensored\", \"anus\", \"couch\", \"red nails\", \"clock\"]\n",
    "build_caps(caps_wd14, profile)"
   ]
  }
 ],
 "metadata": {
  "kernelspec": {
   "display_name": "venv",
   "language": "python",
   "name": "python3"
  },
  "language_info": {
   "codemirror_mode": {
    "name": "ipython",
    "version": 3
   },
   "file_extension": ".py",
   "mimetype": "text/x-python",
   "name": "python",
   "nbconvert_exporter": "python",
   "pygments_lexer": "ipython3",
   "version": "3.10.13"
  }
 },
 "nbformat": 4,
 "nbformat_minor": 2
}
