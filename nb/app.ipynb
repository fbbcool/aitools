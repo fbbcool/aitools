{
 "cells": [
  {
   "cell_type": "code",
   "execution_count": 1,
   "metadata": {},
   "outputs": [],
   "source": [
    "#https://www.rheinmetall.com/de/job/softwareentwickler__m_w_d_/703868"
   ]
  },
  {
   "cell_type": "code",
   "execution_count": null,
   "metadata": {},
   "outputs": [],
   "source": [
    "from src.app import pools, Pool\n",
    "pools.poolnames"
   ]
  },
  {
   "cell_type": "code",
   "execution_count": null,
   "metadata": {},
   "outputs": [],
   "source": [
    "#pool = pools[0]\n",
    "pool = pools[\"gts2\"]\n",
    "pool.url_origs\n",
    "pool[0]['cap_hd']['train']"
   ]
  },
  {
   "cell_type": "code",
   "execution_count": null,
   "metadata": {},
   "outputs": [],
   "source": [
    "pool[-1]['cap'][\"train\"]"
   ]
  },
  {
   "cell_type": "code",
   "execution_count": 5,
   "metadata": {},
   "outputs": [],
   "source": [
    "pass"
   ]
  },
  {
   "cell_type": "code",
   "execution_count": null,
   "metadata": {},
   "outputs": [],
   "source": [
    "from pathlib import Path\n",
    "work = Path(\"/Volumes/data/Project/AI/REPOS/aitools/workspace/pools/gts2\")\n",
    "base = work / Path(\"origs\")\n",
    "files_src = set()\n",
    "unsrc = []\n",
    "all =[]\n",
    "for url in base.iterdir():\n",
    "    name = url.stem\n",
    "    all.append(name)\n",
    "    try:\n",
    "        _ = str(int(name))\n",
    "        files_src.add(url)\n",
    "    except:\n",
    "       unsrc.append(name)\n",
    "\n",
    "\n",
    "nok = len(files_src) + len(unsrc) - len(all)\n",
    "if (nok != 0):\n",
    "    print(\"files select not ok.\")\n",
    "else:\n",
    "    print(\"files select ok.\")\n"
   ]
  },
  {
   "cell_type": "code",
   "execution_count": null,
   "metadata": {},
   "outputs": [],
   "source": [
    "map_rename = {}\n",
    "for file in files_src:\n",
    "    file : Path\n",
    "    rename = str(int(file.stem) - 10000)\n",
    "    if rename in map_rename.keys():\n",
    "        map_rename[rename].append(file)\n",
    "    else:\n",
    "        map_rename |= {rename : [file]}\n",
    "\n",
    "nok = False\n",
    "for key, value in map_rename.items():\n",
    "    if len(value) > 1:\n",
    "        nok = True\n",
    "if nok:\n",
    "    print(\"warning: mapping is bijektiv!\")\n",
    "else:\n",
    "    print(\"mapping ok.\")\n",
    "   \n"
   ]
  },
  {
   "cell_type": "code",
   "execution_count": 45,
   "metadata": {},
   "outputs": [],
   "source": [
    "# proc orig/ orig_hd/\n",
    "for target_int, urls_src in map_rename.items():\n",
    "    if len(urls_src) > 1:\n",
    "        print(f\"\\t{[url.stem for url in urls_src]}\")\n",
    "    url_src : Path = urls_src[0]\n",
    "    name_target = f\"{int(target_int):04}\"\n",
    "    url_target = url_src.parent / Path(name_target).with_suffix(url_src.suffix)\n",
    "\n",
    "    url_src = url_target\n",
    "    url_target = url_target.parent / Path(f\"{url_target.stem}b\").with_suffix(url_target.suffix)\n",
    "\n",
    "    #print(f\"{url_src} -> {url_target}\")\n",
    "\n",
    "    #url_src.rename(url_target)"
   ]
  },
  {
   "cell_type": "code",
   "execution_count": null,
   "metadata": {},
   "outputs": [],
   "source": [
    "# postproc orig/ orig_hd/\n",
    "for target_int, urls_src in map_rename.items():\n",
    "    url_src: Path = urls_src[0]\n",
    "    dir_src = url_src.parent\n",
    "    suffix = url_src.suffix\n",
    "    stem = url_src.stem\n",
    "    if stem != str(int(stem)):\n",
    "        pass\n",
    "for name in unsrc:\n",
    "    name: str\n",
    "    url_src = dir_src / Path(name).with_suffix(\".png\")\n",
    "    target_name = name.strip(\"b\")\n",
    "    url_target = url_src.parent / Path(target_name).with_suffix(\".png\")\n",
    "\n",
    "    if url_target.stem[0] == \"0\":\n",
    "        print(f\"{url_src} -> {url_target}\")\n",
    "        url_src.rename(url_target)"
   ]
  },
  {
   "cell_type": "code",
   "execution_count": 88,
   "metadata": {},
   "outputs": [],
   "source": [
    "from pathlib import Path\n",
    "class UrlImg():\n",
    "    ORIG = \"orig\"\n",
    "    HD = \"orig_hd\"\n",
    "    UNREF = \"orig_unref\"\n",
    "    def __init__(self, url: Path | str):\n",
    "        self.path = Path(url)\n",
    "        self.dir = self.path.parent\n",
    "        self.name = self.path.name\n",
    "        self.stem = self.path.stem\n",
    "        self.suffix = self.path.suffix\n",
    "        self.as_hd = self.rebase(self.HD)\n",
    "        self.as_uref = self.rebase(self.UNREF)\n",
    "    \n",
    "    @property\n",
    "    def hd(self) -> Path | None:\n",
    "        if self.as_hd.is_file():\n",
    "            return self.as_hd\n",
    "        return None\n",
    "    \n",
    "    @property\n",
    "    def unref(self) -> Path:\n",
    "        return self.rebase(self.UNREF)\n",
    "    \n",
    "    def rebase(self, name: str) -> Path:\n",
    "        return self.dir.parent / name / self.name\n",
    "    \n",
    "    def __str__(self):\n",
    "        return f\"{str(self.path)}\""
   ]
  },
  {
   "cell_type": "code",
   "execution_count": null,
   "metadata": {},
   "outputs": [],
   "source": [
    "url_img = UrlImg(\"/Volumes/data/Project/AI/REPOS/aitools/workspace/pools/gts2/orig/0100.png\")\n",
    "url_hd = Path(\"/Volumes/data/Project/AI/REPOS/aitools/workspace/pools/gts2/orig_hd/0100.png\")\n",
    "print(url_img.hd)\n",
    "url_hd.exists()"
   ]
  }
 ],
 "metadata": {
  "kernelspec": {
   "display_name": "venv",
   "language": "python",
   "name": "python3"
  },
  "language_info": {
   "codemirror_mode": {
    "name": "ipython",
    "version": 3
   },
   "file_extension": ".py",
   "mimetype": "text/x-python",
   "name": "python",
   "nbconvert_exporter": "python",
   "pygments_lexer": "ipython3",
   "version": "3.10.16"
  }
 },
 "nbformat": 4,
 "nbformat_minor": 2
}
