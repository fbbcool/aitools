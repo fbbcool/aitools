{
 "cells": [
  {
   "cell_type": "code",
   "execution_count": null,
   "metadata": {},
   "outputs": [],
   "source": [
    "#https://www.rheinmetall.com/de/job/softwareentwickler__m_w_d_/703868"
   ]
  },
  {
   "cell_type": "code",
   "execution_count": 1,
   "metadata": {},
   "outputs": [],
   "source": [
    "from src.app import pools, Pool\n",
    "#pools.labels"
   ]
  },
  {
   "cell_type": "code",
   "execution_count": null,
   "metadata": {},
   "outputs": [],
   "source": [
    "pool = Pool('gts_-1')\n",
    "len(pool)\n",
    "pool.tags_summary_reduced\n",
    "pool.build_tags_train\n",
    "pool[0]['img_caps']['train']"
   ]
  },
  {
   "cell_type": "code",
   "execution_count": 4,
   "metadata": {},
   "outputs": [],
   "source": [
    "pass"
   ]
  },
  {
   "cell_type": "code",
   "execution_count": null,
   "metadata": {},
   "outputs": [],
   "source": [
    "from pathlib import Path\n",
    "import shutil\n",
    "p = Path(\"/Volumes/data/Project/AI/REPOS/aitools/workspace/pools/gts_-2/origs\")\n",
    "dst = Path(\"/Volumes/data/Project/AI/REPOS/aitools/workspace/pools/gts_-2/pics\")\n",
    "i=0\n",
    "for f in p.glob(\"*.png\"):\n",
    "    fr=Path(f)\n",
    "    to = Path(dst, f\"{i:04}.png\")\n",
    "    print(fr)\n",
    "    print(str(to))\n",
    "    fr_cap = fr.with_suffix(\".txt\")\n",
    "    to_cap = to.with_suffix(\".txt\")\n",
    "    print(str(fr_cap))\n",
    "    print(str(to_cap))\n",
    "    \n",
    "\n",
    "    shutil.copy(str(fr), str(to))\n",
    "    shutil.copy(str(fr_cap), str(to_cap))\n",
    "    i+=1\n"
   ]
  },
  {
   "cell_type": "code",
   "execution_count": null,
   "metadata": {},
   "outputs": [],
   "source": [
    "from pathlib import Path\n",
    "p = Path(\"sepp\")\n",
    "print(str(p))\n"
   ]
  }
 ],
 "metadata": {
  "kernelspec": {
   "display_name": "venv",
   "language": "python",
   "name": "python3"
  },
  "language_info": {
   "codemirror_mode": {
    "name": "ipython",
    "version": 3
   },
   "file_extension": ".py",
   "mimetype": "text/x-python",
   "name": "python",
   "nbconvert_exporter": "python",
   "pygments_lexer": "ipython3",
   "version": "3.10.16"
  }
 },
 "nbformat": 4,
 "nbformat_minor": 2
}
