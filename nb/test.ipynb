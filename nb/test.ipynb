{
 "cells": [
  {
   "cell_type": "code",
   "execution_count": 1,
   "metadata": {},
   "outputs": [],
   "source": [
    "from src.imgset import ImgSet, Defaults, Defines\n",
    "#crawl_dir = \"/Volumes/other/200_bt/100_Lara Jones\"\n",
    "#crawl_dir = \"testset/100_Lara Jones\"\n",
    "pool_name = \"test_lara\"\n",
    "#pool_name = \"lara\"\n",
    "#v_build = 0\n",
    "#iset = ImgSet(dir=crawl_dir, pool_name=pool_name)\n",
    "#iset = ImgSet(pool_name=pool_name, init_tags=True)\n",
    "iset = ImgSet(pool_name=pool_name, init_tags=False)\n",
    "#iset.tags_link(Defines.TYPE_TAGS_WD14)\n",
    "#iset.tags_unlink(Defines.TYPE_TAGS_WD14)\n",
    "#iset.tags_copy(Defines.TYPE_TAGS_WD14, f\"{Defines.TYPE_TAGS}_sepp\")\n",
    "#iset.tags_remove(f\"{Defines.TYPE_TAGS}_sepp\")\n",
    "#iset.pool_clean()\n",
    "type_cropped = f\"{Defines.TYPE_TAGS}_cropped\"\n",
    "#iset.tags_init([\"cropped\"], type_cropped)\n",
    "#iset.tags_link(type_cropped)\n",
    "#iset.tags_remove(type_cropped)\n",
    "iset.tags_link_save(type_cropped)\n",
    "iset.pool_clean()\n",
    "\n",
    "\n",
    "\n",
    "#iset = ImgSet(v_build=v_build)\n",
    "#iset = ImgSet(dir=crawl_dir)\n",
    "#iset.df"
   ]
  },
  {
   "cell_type": "code",
   "execution_count": 2,
   "metadata": {},
   "outputs": [],
   "source": [
    "#iset.create_captions()\n",
    "#iset.df[Defines.DF_CAP]"
   ]
  },
  {
   "cell_type": "code",
   "execution_count": 3,
   "metadata": {},
   "outputs": [],
   "source": [
    "#import pandas as pd\n",
    "#pd.options.display.max_rows = 4000\n",
    "#iset.caps_hist"
   ]
  },
  {
   "cell_type": "code",
   "execution_count": 4,
   "metadata": {},
   "outputs": [],
   "source": [
    "### WARNING ###\n",
    "#iset.save_captions()"
   ]
  },
  {
   "cell_type": "code",
   "execution_count": 5,
   "metadata": {},
   "outputs": [],
   "source": [
    "#iset.create_dataset(pools=[])"
   ]
  }
 ],
 "metadata": {
  "kernelspec": {
   "display_name": "venv",
   "language": "python",
   "name": "python3"
  },
  "language_info": {
   "codemirror_mode": {
    "name": "ipython",
    "version": 3
   },
   "file_extension": ".py",
   "mimetype": "text/x-python",
   "name": "python",
   "nbconvert_exporter": "python",
   "pygments_lexer": "ipython3",
   "version": "3.10.13"
  }
 },
 "nbformat": 4,
 "nbformat_minor": 2
}
