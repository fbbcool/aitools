{
 "cells": [
  {
   "cell_type": "code",
   "execution_count": null,
   "metadata": {},
   "outputs": [],
   "source": [
    "from src.imgset import ImgSet, Defaults, Defines, Tags\n",
    "#crawl_dir = \"/Volumes/other/200_bt/100_Lara Jones\"\n",
    "#crawl_dir = \"testset/100_Lara Jones\"\n",
    "pool_name = \"test_lara\"\n",
    "#pool_name = \"lara\"\n",
    "\n",
    "iset = ImgSet(pool_name, init_tags=False)\n",
    "#iset = ImgSet(pool_name, init_tags=True)\n",
    "#iset = ImgSet(pool_name, dir=crawl_dir)\n",
    "\n",
    "#iset.tags_link(Defines.TYPE_TAGS_WD14)\n",
    "#iset.tags_unlink(Defines.TYPE_TAGS_WD14)\n",
    "#iset.tags_copy(Defines.TYPE_TAGS_WD14, f\"{Defines.TYPE_TAGS}_sepp\")\n",
    "#iset.tags_remove(f\"{Defines.TYPE_TAGS}_sepp\")\n",
    "#iset.pool_clean()\n",
    "type_cropped = f\"{Defines.TYPE_TAGS_CROPPED}\"\n",
    "iset.tags_init([Tags.CROPPED], type_cropped)\n",
    "#iset.tags_init(Tags.PROCINFO, Defines.TYPE_TAGS_PROCINFO)\n",
    "#iset.tags_link(type_cropped)\n",
    "#iset.tags_remove(type_cropped)\n",
    "#iset.tags_link_save(type_cropped)\n",
    "#iset.pool_clean()"
   ]
  },
  {
   "cell_type": "code",
   "execution_count": null,
   "metadata": {},
   "outputs": [],
   "source": [
    "iset.build([], Defines.TYPE_TAGS_WD14, 5)"
   ]
  },
  {
   "cell_type": "code",
   "execution_count": null,
   "metadata": {},
   "outputs": [],
   "source": [
    "#import pandas as pd\n",
    "#pd.options.display.max_rows = 4000\n",
    "#iset.caps_hist"
   ]
  },
  {
   "cell_type": "code",
   "execution_count": null,
   "metadata": {},
   "outputs": [],
   "source": [
    "### WARNING ###\n",
    "#iset.save_captions()"
   ]
  },
  {
   "cell_type": "code",
   "execution_count": null,
   "metadata": {},
   "outputs": [],
   "source": [
    "#iset.create_dataset(pools=[])"
   ]
  }
 ],
 "metadata": {
  "kernelspec": {
   "display_name": "venv",
   "language": "python",
   "name": "python3"
  },
  "language_info": {
   "codemirror_mode": {
    "name": "ipython",
    "version": 3
   },
   "file_extension": ".py",
   "mimetype": "text/x-python",
   "name": "python",
   "nbconvert_exporter": "python",
   "pygments_lexer": "ipython3",
   "version": "3.10.13"
  }
 },
 "nbformat": 4,
 "nbformat_minor": 2
}
